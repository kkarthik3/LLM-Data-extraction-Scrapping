{
 "cells": [
  {
   "cell_type": "code",
   "execution_count": 1,
   "metadata": {},
   "outputs": [],
   "source": [
    "from langchain_community.document_loaders.csv_loader import CSVLoader"
   ]
  },
  {
   "cell_type": "code",
   "execution_count": 2,
   "metadata": {},
   "outputs": [
    {
     "data": {
      "text/plain": [
       "\": 0\\nAll_content: ['', '', '', '', '', 'CHIL SEZ IT Park, Saravanampatty, Coimbatore - 035 info@dplus.co.in\\\\nEmployee login\\\\nHOME\\\\nABOUT US\\\\nSERVICES\\\\nFRANCHISE\\\\nCONTACT US\\\\nCALL US NOW\\\\n96 5 97 88888\\\\nWELCOME TO DPLUS CAR CARE\\\\nDplus is a One-Stop Solution for all your car servicing needs.\\\\nFREE ESTIMATE\\\\n01\\\\n02\\\\n03\\\\nWHO IS DPLUS CAR CARE?\\\\nAbout Our Company\\\\nA specialized team of experienced technicians thriving to help clients in their needs.\\\\nDplus Car Care is a leading brand in South India for Professional Car Washing ,Painting and Detailing Services Our services are supported by a team of well trained staffs who comes with a wealth of experience, not only in car washing and valeting professionalism and technical ability but also in customer service. our aim is to deliver the very best for our customers by providing an enhanced experience and an unequalled service.\\\\nOUR SERVICES\\\\nOur Service Plans To Meet All Your Demands\\\\nDplus Car Care is incredibly flexible, friendly and easy to work with. Our list of services are widely acknowledged to assure you get the best quality service\\\\nCAR PAINTING\\\\nDENT/SCRATCH REMOVAL\\\\nCAR WASHING\\\\nINTERIOR DETAILING AND\\\\nEXTERIOR DETAILING\\\\nCAR TEFLON COATING\\\\nAND WAX POLISHING\\\\nCAR ALTERATION\\\\nAND MODIFICATION\\\\nCAR GENERAL SERVICE\\\\nAND MECHANIC WORKS\\\\nCAR SEAT COVER,\\\\nACCESSORIES AND PRODUCTS\\\\nGoogle Reviews\\\\nReviews\\\\n4.8\\\\n(276)\\\\nREVIEW US ON GOOGLE\\\\nBhuvanesh Selvan\\\\nThe place for all your car detailing work. Good work from Ajith sir and team. Highly recommended!!\\\\nRead more\\\\nPosted on\\\\nGoogle\\\\nVignes waran\\\\nGood service! Thanks Ajith!\\\\nPosted on\\\\nGoogle\\\\nSugan Sugu\\\\nD+ car care on time delivery and proper problem solving and work culture is very good\\\\nRead more\\\\nPosted on\\\\nGoogle\\\\nSathya N\\\\nDid tinkering for my polo back doors, they did almost similar to Volkswagen body shop. Cheap and best\\\\nRead more\\\\nPosted on\\\\nGoogle\\\\nS M\\\\nRecently My Taigun Front Door (driver side) dent repair attended by brother Ajith. Good work and timely completed. Charges was reasonable.\\\\nRead more\\\\nPosted on\\\\nGoogle\\\\nSambath Kumar\\\\nWell & good in all aspects... I Satisfied with them... On time delivery, proper response, reasonable charges\\\\nRead more\\\\nPosted on\\\\nGoogle\\\\nDinesh Kaliaprumal\\\\nGreat Job done by Dplus car care team. My car was serviced well and it looks like a new door. Thanks\\\\nRead more\\\\nPosted on\\\\nGoogle\\\\nmohammed rafiq mk\\\\nMy car tiago (xt) painting done good. Satisfied with their work !!!!\\\\nPosted on\\\\nGoogle\\\\nMr Check Engine Autotronics\\\\nNice painting work....\\\\nPosted on\\\\nGoogle\\\\nNiswan Baig\\\\nI would highly recommend Dplus care care because its best place for all mechanical works. I gave my car for check engine light frequently occuring with some lagging issues when its in 2nd and 3rd gear. They scan in detail and resolved my issue completely with reasonable price.\\\\nRead more\\\\nPosted on\\\\nGoogle\\\\najith kumar\\\\nCustom service and response so good\\\\nPosted on\\\\nGoogle\\\\nsivasubramaniam T\\\\nThe best place for painting service. I am very much satisfied with the painting service and the outcome. They are commited to the work and their approach towards a customer is excellent. I really appreciate Mr Ajith and their team for the outcome. Thankyou\\\\nRead more\\\\nPosted on\\\\nGoogle\\\\nSuresh Kumar\\\\nI have done complete car service and dent removal and polishing with dolls car care. They have done excellent job with reasonable cost. They have made my 10 years old car like a new car. They have pick and drop service too. One negative is slight delay in delivery. But I guess that’s due to Divali holiday busy. Overall it is very good and recommend to all.\\\\nRead more\\\\nPosted on\\\\nGoogle\\\\nGUNA\\\\nGood people, clear explanation of work to be done, excellent service, on time delivery.\\\\nRead more\\\\nPosted on\\\\nGoogle\\\\nmuthu mani.mkn\\\\nWater wash did here very well and satisfied...\\\\nPosted on\\\\nGoogle\\\\nKhashni\\\\nBest car care for painting. I did painting for my santro and they did the work very well.\\\\nRead more\\\\nPosted on\\\\nGoogle\\\\nLOAD MORE\\\\nFree Google Reviews widget\\\\nCONTACT US\\\\nGet Quote Today\\\\nYour Full Name *\\\\nYour Phone Number *\\\\nYour Email address\\\\nBest time for service\\\\n                                    BEST TIME FOR SERVICE\\\\n                                    MORNING\\\\n                                    AFTERNOON\\\\n                                    EVENING\\\\n                                 Your question\\\\nSEND NOW OUR CONTACTS\\\\nWe will become your perfect car care partner.\\\\nGET IN TOUCH\\\\nCHIL SEZ IT Park, Saravanampatty, Coimbatore - 035\\\\n96 5 97 88888\\\\ninfo@dplus.co.in\\\\nTAGS\\\\nCAR PAINTING CAR WASHING DETAILING POLISHING GENERAL SERVICE CAR SEAT COVER\\\\n© Copyright 2018. Dplus Car Care. All Rights Reserved.', 'CHIL SEZ IT Park, Saravanampatty, Coimbatore - 035 info@dplus.co.in\\\\nEmployee login\\\\nHOME\\\\nABOUT US\\\\nSERVICES\\\\nFRANCHISE\\\\nCONTACT US\\\\nCALL US NOW\\\\n96 5 97 88888\\\\nWELCOME TO DPLUS CAR CARE\\\\nDplus is a One-Stop Solution for all your car servicing needs.\\\\nFREE ESTIMATE\\\\n01\\\\n02\\\\n03\\\\nWHO IS DPLUS CAR CARE?\\\\nAbout Our Company\\\\nA specialized team of experienced technicians thriving to help clients in their needs.\\\\nDplus Car Care is a leading brand in South India for Professional Car Washing ,Painting and Detailing Services Our services are supported by a team of well trained staffs who comes with a wealth of experience, not only in car washing and valeting professionalism and technical ability but also in customer service. our aim is to deliver the very best for our customers by providing an enhanced experience and an unequalled service.\\\\nOUR SERVICES\\\\nOur Service Plans To Meet All Your Demands\\\\nDplus Car Care is incredibly flexible, friendly and easy to work with. Our list of services are widely acknowledged to assure you get the best quality service\\\\nCAR PAINTING\\\\nDENT/SCRATCH REMOVAL\\\\nCAR WASHING\\\\nINTERIOR DETAILING AND\\\\nEXTERIOR DETAILING\\\\nCAR TEFLON COATING\\\\nAND WAX POLISHING\\\\nCAR ALTERATION\\\\nAND MODIFICATION\\\\nCAR GENERAL SERVICE\\\\nAND MECHANIC WORKS\\\\nCAR SEAT COVER,\\\\nACCESSORIES AND PRODUCTS\\\\nGoogle Reviews\\\\nReviews\\\\n4.8\\\\n(276)\\\\nREVIEW US ON GOOGLE\\\\nBhuvanesh Selvan\\\\nThe place for all your car detailing work. Good work from Ajith sir and team. Highly recommended!!\\\\nRead more\\\\nPosted on\\\\nGoogle\\\\nVignes waran\\\\nGood service! Thanks Ajith!\\\\nPosted on\\\\nGoogle\\\\nSugan Sugu\\\\nD+ car care on time delivery and proper problem solving and work culture is very good\\\\nRead more\\\\nPosted on\\\\nGoogle\\\\nSathya N\\\\nDid tinkering for my polo back doors, they did almost similar to Volkswagen body shop. Cheap and best\\\\nRead more\\\\nPosted on\\\\nGoogle\\\\nS M\\\\nRecently My Taigun Front Door (driver side) dent repair attended by brother Ajith. Good work and timely completed. Charges was reasonable.\\\\nRead more\\\\nPosted on\\\\nGoogle\\\\nSambath Kumar\\\\nWell & good in all aspects... I Satisfied with them... On time delivery, proper response, reasonable charges\\\\nRead more\\\\nPosted on\\\\nGoogle\\\\nDinesh Kaliaprumal\\\\nGreat Job done by Dplus car care team. My car was serviced well and it looks like a new door. Thanks\\\\nRead more\\\\nPosted on\\\\nGoogle\\\\nmohammed rafiq mk\\\\nMy car tiago (xt) painting done good. Satisfied with their work !!!!\\\\nPosted on\\\\nGoogle\\\\nMr Check Engine Autotronics\\\\nNice painting work....\\\\nPosted on\\\\nGoogle\\\\nNiswan Baig\\\\nI would highly recommend Dplus care care because its best place for all mechanical works. I gave my car for check engine light frequently occuring with some lagging issues when its in 2nd and 3rd gear. They scan in detail and resolved my issue completely with reasonable price.\\\\nRead more\\\\nPosted on\\\\nGoogle\\\\najith kumar\\\\nCustom service and response so good\\\\nPosted on\\\\nGoogle\\\\nsivasubramaniam T\\\\nThe best place for painting service. I am very much satisfied with the painting service and the outcome. They are commited to the work and their approach towards a customer is excellent. I really appreciate Mr Ajith and their team for the outcome. Thankyou\\\\nRead more\\\\nPosted on\\\\nGoogle\\\\nSuresh Kumar\\\\nI have done complete car service and dent removal and polishing with dolls car care. They have done excellent job with reasonable cost. They have made my 10 years old car like a new car. They have pick and drop service too. One negative is slight delay in delivery. But I guess that’s due to Divali holiday busy. Overall it is very good and recommend to all.\\\\nRead more\\\\nPosted on\\\\nGoogle\\\\nGUNA\\\\nGood people, clear explanation of work to be done, excellent service, on time delivery.\\\\nRead more\\\\nPosted on\\\\nGoogle\\\\nmuthu mani.mkn\\\\nWater wash did here very well and satisfied...\\\\nPosted on\\\\nGoogle\\\\nKhashni\\\\nBest car care for painting. I did painting for my santro and they did the work very well.\\\\nRead more\\\\nPosted on\\\\nGoogle\\\\nLOAD MORE\\\\nFree Google Reviews widget\\\\nCONTACT US\\\\nGet Quote Today\\\\nYour Full Name *\\\\nYour Phone Number *\\\\nYour Email address\\\\nBest time for service\\\\n                                    BEST TIME FOR SERVICE\\\\n                                    MORNING\\\\n                                    AFTERNOON\\\\n                                    EVENING\\\\n                                 Your question\\\\nSEND NOW OUR CONTACTS\\\\nWe will become your perfect car care partner.\\\\nGET IN TOUCH\\\\nCHIL SEZ IT Park, Saravanampatty, Coimbatore - 035\\\\n96 5 97 88888\\\\ninfo@dplus.co.in\\\\nTAGS\\\\nCAR PAINTING CAR WASHING DETAILING POLISHING GENERAL SERVICE CAR SEAT COVER\\\\n© Copyright 2018. Dplus Car Care. All Rights Reserved.', 'CHIL SEZ IT Park, Saravanampatty, Coimbatore - 035 info@dplus.co.in\\\\nEmployee login', 'CHIL SEZ IT Park, Saravanampatty, Coimbatore - 035 info@dplus.co.in\\\\nEmployee login', 'CHIL SEZ IT Park, Saravanampatty, Coimbatore - 035 info@dplus.co.in', 'CHIL SEZ IT Park, Saravanampatty, Coimbatore - 035 info@dplus.co.in', '', 'Employee login', '', '', '', 'HOME\\\\nABOUT US\\\\nSERVICES\\\\nFRANCHISE\\\\nCONTACT US\\\\nCALL US NOW\\\\n96 5 97 88888', 'HOME\\\\nABOUT US\\\\nSERVICES\\\\nFRANCHISE\\\\nCONTACT US\\\\nCALL US NOW\\\\n96 5 97 88888', 'HOME\\\\nABOUT US\\\\nSERVICES\\\\nFRANCHISE\\\\nCONTACT US\\\\nCALL US NOW\\\\n96 5 97 88888', 'HOME\\\\nABOUT US\\\\nSERVICES\\\\nFRANCHISE\\\\nCONTACT US\\\\nCALL US NOW\\\\n96 5 97 88888', '', 'HOME\\\\nABOUT US\\\\nSERVICES\\\\nFRANCHISE\\\\nCONTACT US', 'CALL US NOW\\\\n96 5 97 88888', 'WELCOME TO DPLUS CAR CARE\\\\nDplus is a One-Stop Solution for all your car servicing needs.\\\\nFREE ESTIMATE\\\\n01\\\\n02\\\\n03', 'WELCOME TO DPLUS CAR CARE\\\\nDplus is a One-Stop Solution for all your car servicing needs.\\\\nFREE ESTIMATE', 'WELCOME TO DPLUS CAR CARE\\\\nDplus is a One-Stop Solution for all your car servicing needs.\\\\nFREE ESTIMATE', 'WELCOME TO DPLUS CAR CARE\\\\nDplus is a One-Stop Solution for all your car servicing needs.\\\\nFREE ESTIMATE', 'WELCOME TO DPLUS CAR CARE\\\\nDplus is a One-Stop Solution for all your car servicing needs.\\\\nFREE ESTIMATE', 'WELCOME TO DPLUS CAR CARE\\\\nDplus is a One-Stop Solution for all your car servicing needs.\\\\nFREE ESTIMATE', 'WELCOME TO DPLUS CAR CARE\\\\nDplus is a One-Stop Solution for all your car servicing needs.', 'FREE ESTIMATE', 'FREE ESTIMATE', '', '', '', '', '', '', '', '', '', '', '', '', '', '', '', '', '01\\\\n02\\\\n03', 'WHO IS DPLUS CAR CARE?\\\\nAbout Our Company\\\\nA specialized team of experienced technicians thriving to help clients in their needs.\\\\nDplus Car Care is a leading brand in South India for Professional Car Washing ,Painting and Detailing Services Our services are supported by a team of well trained staffs who comes with a wealth of experience, not only in car washing and valeting professionalism and technical ability but also in customer service. our aim is to deliver the very best for our customers by providing an enhanced experience and an unequalled service.', 'WHO IS DPLUS CAR CARE?\\\\nAbout Our Company\\\\nA specialized team of experienced technicians thriving to help clients in their needs.\\\\nDplus Car Care is a leading brand in South India for Professional Car Washing ,Painting and Detailing Services Our services are supported by a team of well trained staffs who comes with a wealth of experience, not only in car washing and valeting professionalism and technical ability but also in customer service. our aim is to deliver the very best for our customers by providing an enhanced experience and an unequalled service.', '', '', 'WHO IS DPLUS CAR CARE?\\\\nAbout Our Company\\\\nA specialized team of experienced technicians thriving to help clients in their needs.\\\\nDplus Car Care is a leading brand in South India for Professional Car Washing ,Painting and Detailing Services Our services are supported by a team of well trained staffs who comes with a wealth of experience, not only in car washing and valeting professionalism and technical ability but also in customer service. our aim is to deliver the very best for our customers by providing an enhanced experience and an unequalled service.', 'OUR SERVICES\\\\nOur Service Plans To Meet All Your Demands\\\\nDplus Car Care is incredibly flexible, friendly and easy to work with. Our list of services are widely acknowledged to assure you get the best quality service\\\\nCAR PAINTING\\\\nDENT/SCRATCH REMOVAL\\\\nCAR WASHING\\\\nINTERIOR DETAILING AND\\\\nEXTERIOR DETAILING\\\\nCAR TEFLON COATING\\\\nAND WAX POLISHING\\\\nCAR ALTERATION\\\\nAND MODIFICATION\\\\nCAR GENERAL SERVICE\\\\nAND MECHANIC WORKS\\\\nCAR SEAT COVER,\\\\nACCESSORIES AND PRODUCTS', 'OUR SERVICES\\\\nOur Service Plans To Meet All Your Demands\\\\nDplus Car Care is incredibly flexible, friendly and easy to work with. Our list of services are widely acknowledged to assure you get the best quality service', 'OUR SERVICES\\\\nOur Service Plans To Meet All Your Demands', 'Dplus Car Care is incredibly flexible, friendly and easy to work with. Our list of services are widely acknowledged to assure you get the best quality service', 'CAR PAINTING\\\\nDENT/SCRATCH REMOVAL\\\\nCAR WASHING\\\\nINTERIOR DETAILING AND\\\\nEXTERIOR DETAILING\\\\nCAR TEFLON COATING\\\\nAND WAX POLISHING\\\\nCAR ALTERATION\\\\nAND MODIFICATION\\\\nCAR GENERAL SERVICE\\\\nAND MECHANIC WORKS\\\\nCAR SEAT COVER,\\\\nACCESSORIES AND PRODUCTS', 'CAR PAINTING\\\\nDENT/SCRATCH REMOVAL', 'CAR PAINTING\\\\nDENT/SCRATCH REMOVAL', '', '', 'CAR PAINTING\\\\nDENT/SCRATCH REMOVAL', 'CAR WASHING', 'CAR WASHING', '', '', 'CAR WASHING', 'INTERIOR DETAILING AND\\\\nEXTERIOR DETAILING', 'INTERIOR DETAILING AND\\\\nEXTERIOR DETAILING', '', '', 'INTERIOR DETAILING AND\\\\nEXTERIOR DETAILING', 'CAR TEFLON COATING\\\\nAND WAX POLISHING', 'CAR TEFLON COATING\\\\nAND WAX POLISHING', '', '', 'CAR TEFLON COATING\\\\nAND WAX POLISHING', 'CAR ALTERATION\\\\nAND MODIFICATION', 'CAR ALTERATION\\\\nAND MODIFICATION', '', '', 'CAR ALTERATION\\\\nAND MODIFICATION', 'CAR GENERAL SERVICE\\\\nAND MECHANIC WORKS', 'CAR GENERAL SERVICE\\\\nAND MECHANIC WORKS', '', '', 'CAR GENERAL SERVICE\\\\nAND MECHANIC WORKS', 'CAR SEAT COVER,\\\\nACCESSORIES AND PRODUCTS', 'CAR SEAT COVER,\\\\nACCESSORIES AND PRODUCTS', '', '', 'CAR SEAT COVER,\\\\nACCESSORIES AND PRODUCTS', 'Google Reviews\\\\nReviews\\\\n4.8\\\\n(276)\\\\nREVIEW US ON GOOGLE\\\\nBhuvanesh Selvan\\\\nThe place for all your car detailing work. Good work from Ajith sir and team. Highly recommended!!\\\\nRead more\\\\nPosted on\\\\nGoogle\\\\nVignes waran\\\\nGood service! Thanks Ajith!\\\\nPosted on\\\\nGoogle\\\\nSugan Sugu\\\\nD+ car care on time delivery and proper problem solving and work culture is very good\\\\nRead more\\\\nPosted on\\\\nGoogle\\\\nSathya N\\\\nDid tinkering for my polo back doors, they did almost similar to Volkswagen body shop. Cheap and best\\\\nRead more\\\\nPosted on\\\\nGoogle\\\\nS M\\\\nRecently My Taigun Front Door (driver side) dent repair attended by brother Ajith. Good work and timely completed. Charges was reasonable.\\\\nRead more\\\\nPosted on\\\\nGoogle\\\\nSambath Kumar\\\\nWell & good in all aspects... I Satisfied with them... On time delivery, proper response, reasonable charges\\\\nRead more\\\\nPosted on\\\\nGoogle\\\\nDinesh Kaliaprumal\\\\nGreat Job done by Dplus car care team. My car was serviced well and it looks like a new door. Thanks\\\\nRead more\\\\nPosted on\\\\nGoogle\\\\nmohammed rafiq mk\\\\nMy car tiago (xt) painting done good. Satisfied with their work !!!!\\\\nPosted on\\\\nGoogle\\\\nMr Check Engine Autotronics\\\\nNice painting work....\\\\nPosted on\\\\nGoogle\\\\nNiswan Baig\\\\nI would highly recommend Dplus care care because its best place for all mechanical works. I gave my car for check engine light frequently occuring with some lagging issues when its in 2nd and 3rd gear. They scan in detail and resolved my issue completely with reasonable price.\\\\nRead more\\\\nPosted on\\\\nGoogle\\\\najith kumar\\\\nCustom service and response so good\\\\nPosted on\\\\nGoogle\\\\nsivasubramaniam T\\\\nThe best place for painting service. I am very much satisfied with the painting service and the outcome. They are commited to the work and their approach towards a customer is excellent. I really appreciate Mr Ajith and their team for the outcome. Thankyou\\\\nRead more\\\\nPosted on\\\\nGoogle\\\\nSuresh Kumar\\\\nI have done complete car service and dent removal and polishing with dolls car care. They have done excellent job with reasonable cost. They have made my 10 years old car like a new car. They have pick and drop service too. One negative is slight delay in delivery. But I guess that’s due to Divali holiday busy. Overall it is very good and recommend to all.\\\\nRead more\\\\nPosted on\\\\nGoogle\\\\nGUNA\\\\nGood people, clear explanation of work to be done, excellent service, on time delivery.\\\\nRead more\\\\nPosted on\\\\nGoogle\\\\nmuthu mani.mkn\\\\nWater wash did here very well and satisfied...\\\\nPosted on\\\\nGoogle\\\\nKhashni\\\\nBest car care for painting. I did painting for my santro and they did the work very well.\\\\nRead more\\\\nPosted on\\\\nGoogle\\\\nLOAD MORE\\\\nFree Google Reviews widget', 'Google Reviews\\\\nReviews\\\\n4.8\\\\n(276)\\\\nREVIEW US ON GOOGLE\\\\nBhuvanesh Selvan\\\\nThe place for all your car detailing work. Good work from Ajith sir and team. Highly recommended!!\\\\nRead more\\\\nPosted on\\\\nGoogle\\\\nVignes waran\\\\nGood service! Thanks Ajith!\\\\nPosted on\\\\nGoogle\\\\nSugan Sugu\\\\nD+ car care on time delivery and proper problem solving and work culture is very good\\\\nRead more\\\\nPosted on\\\\nGoogle\\\\nSathya N\\\\nDid tinkering for my polo back doors, they did almost similar to Volkswagen body shop. Cheap and best\\\\nRead more\\\\nPosted on\\\\nGoogle\\\\nS M\\\\nRecently My Taigun Front Door (driver side) dent repair attended by brother Ajith. Good work and timely completed. Charges was reasonable.\\\\nRead more\\\\nPosted on\\\\nGoogle\\\\nSambath Kumar\\\\nWell & good in all aspects... I Satisfied with them... On time delivery, proper response, reasonable charges\\\\nRead more\\\\nPosted on\\\\nGoogle\\\\nDinesh Kaliaprumal\\\\nGreat Job done by Dplus car care team. My car was serviced well and it looks like a new door. Thanks\\\\nRead more\\\\nPosted on\\\\nGoogle\\\\nmohammed rafiq mk\\\\nMy car tiago (xt) painting done good. Satisfied with their work !!!!\\\\nPosted on\\\\nGoogle\\\\nMr Check Engine Autotronics\\\\nNice painting work....\\\\nPosted on\\\\nGoogle\\\\nNiswan Baig\\\\nI would highly recommend Dplus care care because its best place for all mechanical works. I gave my car for check engine light frequently occuring with some lagging issues when its in 2nd and 3rd gear. They scan in detail and resolved my issue completely with reasonable price.\\\\nRead more\\\\nPosted on\\\\nGoogle\\\\najith kumar\\\\nCustom service and response so good\\\\nPosted on\\\\nGoogle\\\\nsivasubramaniam T\\\\nThe best place for painting service. I am very much satisfied with the painting service and the outcome. They are commited to the work and their approach towards a customer is excellent. I really appreciate Mr Ajith and their team for the outcome. Thankyou\\\\nRead more\\\\nPosted on\\\\nGoogle\\\\nSuresh Kumar\\\\nI have done complete car service and dent removal and polishing with dolls car care. They have done excellent job with reasonable cost. They have made my 10 years old car like a new car. They have pick and drop service too. One negative is slight delay in delivery. But I guess that’s due to Divali holiday busy. Overall it is very good and recommend to all.\\\\nRead more\\\\nPosted on\\\\nGoogle\\\\nGUNA\\\\nGood people, clear explanation of work to be done, excellent service, on time delivery.\\\\nRead more\\\\nPosted on\\\\nGoogle\\\\nmuthu mani.mkn\\\\nWater wash did here very well and satisfied...\\\\nPosted on\\\\nGoogle\\\\nKhashni\\\\nBest car care for painting. I did painting for my santro and they did the work very well.\\\\nRead more\\\\nPosted on\\\\nGoogle\\\\nLOAD MORE\\\\nFree Google Reviews widget', 'Google Reviews\\\\nReviews\\\\n4.8\\\\n(276)\\\\nREVIEW US ON GOOGLE\\\\nBhuvanesh Selvan\\\\nThe place for all your car detailing work. Good work from Ajith sir and team. Highly recommended!!\\\\nRead more\\\\nPosted on\\\\nGoogle\\\\nVignes waran\\\\nGood service! Thanks Ajith!\\\\nPosted on\\\\nGoogle\\\\nSugan Sugu\\\\nD+ car care on time delivery and proper problem solving and work culture is very good\\\\nRead more\\\\nPosted on\\\\nGoogle\\\\nSathya N\\\\nDid tinkering for my polo back doors, they did almost similar to Volkswagen body shop. Cheap and best\\\\nRead more\\\\nPosted on\\\\nGoogle\\\\nS M\\\\nRecently My Taigun Front Door (driver side) dent repair attended by brother Ajith. Good work and timely completed. Charges was reasonable.\\\\nRead more\\\\nPosted on\\\\nGoogle\\\\nSambath Kumar\\\\nWell & good in all aspects... I Satisfied with them... On time delivery, proper response, reasonable charges\\\\nRead more\\\\nPosted on\\\\nGoogle\\\\nDinesh Kaliaprumal\\\\nGreat Job done by Dplus car care team. My car was serviced well and it looks like a new door. Thanks\\\\nRead more\\\\nPosted on\\\\nGoogle\\\\nmohammed rafiq mk\\\\nMy car tiago (xt) painting done good. Satisfied with their work !!!!\\\\nPosted on\\\\nGoogle\\\\nMr Check Engine Autotronics\\\\nNice painting work....\\\\nPosted on\\\\nGoogle\\\\nNiswan Baig\\\\nI would highly recommend Dplus care care because its best place for all mechanical works. I gave my car for check engine light frequently occuring with some lagging issues when its in 2nd and 3rd gear. They scan in detail and resolved my issue completely with reasonable price.\\\\nRead more\\\\nPosted on\\\\nGoogle\\\\najith kumar\\\\nCustom service and response so good\\\\nPosted on\\\\nGoogle\\\\nsivasubramaniam T\\\\nThe best place for painting service. I am very much satisfied with the painting service and the outcome. They are commited to the work and their approach towards a customer is excellent. I really appreciate Mr Ajith and their team for the outcome. Thankyou\\\\nRead more\\\\nPosted on\\\\nGoogle\\\\nSuresh Kumar\\\\nI have done complete car service and dent removal and polishing with dolls car care. They have done excellent job with reasonable cost. They have made my 10 years old car like a new car. They have pick and drop service too. One negative is slight delay in delivery. But I guess that’s due to Divali holiday busy. Overall it is very good and recommend to all.\\\\nRead more\\\\nPosted on\\\\nGoogle\\\\nGUNA\\\\nGood people, clear explanation of work to be done, excellent service, on time delivery.\\\\nRead more\\\\nPosted on\\\\nGoogle\\\\nmuthu mani.mkn\\\\nWater wash did here very well and satisfied...\\\\nPosted on\\\\nGoogle\\\\nKhashni\\\\nBest car care for painting. I did painting for my santro and they did the work very well.\\\\nRead more\\\\nPosted on\\\\nGoogle\\\\nLOAD MORE\\\\nFree Google Reviews widget', 'Google Reviews\\\\nReviews\\\\n4.8\\\\n(276)\\\\nREVIEW US ON GOOGLE\\\\nBhuvanesh Selvan\\\\nThe place for all your car detailing work. Good work from Ajith sir and team. Highly recommended!!\\\\nRead more\\\\nPosted on\\\\nGoogle\\\\nVignes waran\\\\nGood service! Thanks Ajith!\\\\nPosted on\\\\nGoogle\\\\nSugan Sugu\\\\nD+ car care on time delivery and proper problem solving and work culture is very good\\\\nRead more\\\\nPosted on\\\\nGoogle\\\\nSathya N\\\\nDid tinkering for my polo back doors, they did almost similar to Volkswagen body shop. Cheap and best\\\\nRead more\\\\nPosted on\\\\nGoogle\\\\nS M\\\\nRecently My Taigun Front Door (driver side) dent repair attended by brother Ajith. Good work and timely completed. Charges was reasonable.\\\\nRead more\\\\nPosted on\\\\nGoogle\\\\nSambath Kumar\\\\nWell & good in all aspects... I Satisfied with them... On time delivery, proper response, reasonable charges\\\\nRead more\\\\nPosted on\\\\nGoogle\\\\nDinesh Kaliaprumal\\\\nGreat Job done by Dplus car care team. My car was serviced well and it looks like a new door. Thanks\\\\nRead more\\\\nPosted on\\\\nGoogle\\\\nmohammed rafiq mk\\\\nMy car tiago (xt) painting done good. Satisfied with their work !!!!\\\\nPosted on\\\\nGoogle\\\\nMr Check Engine Autotronics\\\\nNice painting work....\\\\nPosted on\\\\nGoogle\\\\nNiswan Baig\\\\nI would highly recommend Dplus care care because its best place for all mechanical works. I gave my car for check engine light frequently occuring with some lagging issues when its in 2nd and 3rd gear. They scan in detail and resolved my issue completely with reasonable price.\\\\nRead more\\\\nPosted on\\\\nGoogle\\\\najith kumar\\\\nCustom service and response so good\\\\nPosted on\\\\nGoogle\\\\nsivasubramaniam T\\\\nThe best place for painting service. I am very much satisfied with the painting service and the outcome. They are commited to the work and their approach towards a customer is excellent. I really appreciate Mr Ajith and their team for the outcome. Thankyou\\\\nRead more\\\\nPosted on\\\\nGoogle\\\\nSuresh Kumar\\\\nI have done complete car service and dent removal and polishing with dolls car care. They have done excellent job with reasonable cost. They have made my 10 years old car like a new car. They have pick and drop service too. One negative is slight delay in delivery. But I guess that’s due to Divali holiday busy. Overall it is very good and recommend to all.\\\\nRead more\\\\nPosted on\\\\nGoogle\\\\nGUNA\\\\nGood people, clear explanation of work to be done, excellent service, on time delivery.\\\\nRead more\\\\nPosted on\\\\nGoogle\\\\nmuthu mani.mkn\\\\nWater wash did here very well and satisfied...\\\\nPosted on\\\\nGoogle\\\\nKhashni\\\\nBest car care for painting. I did painting for my santro and they did the work very well.\\\\nRead more\\\\nPosted on\\\\nGoogle\\\\nLOAD MORE\\\\nFree Google Reviews widget', 'Google Reviews\\\\nReviews\\\\n4.8\\\\n(276)\\\\nREVIEW US ON GOOGLE\\\\nBhuvanesh Selvan\\\\nThe place for all your car detailing work. Good work from Ajith sir and team. Highly recommended!!\\\\nRead more\\\\nPosted on\\\\nGoogle\\\\nVignes waran\\\\nGood service! Thanks Ajith!\\\\nPosted on\\\\nGoogle\\\\nSugan Sugu\\\\nD+ car care on time delivery and proper problem solving and work culture is very good\\\\nRead more\\\\nPosted on\\\\nGoogle\\\\nSathya N\\\\nDid tinkering for my polo back doors, they did almost similar to Volkswagen body shop. Cheap and best\\\\nRead more\\\\nPosted on\\\\nGoogle\\\\nS M\\\\nRecently My Taigun Front Door (driver side) dent repair attended by brother Ajith. Good work and timely completed. Charges was reasonable.\\\\nRead more\\\\nPosted on\\\\nGoogle\\\\nSambath Kumar\\\\nWell & good in all aspects... I Satisfied with them... On time delivery, proper response, reasonable charges\\\\nRead more\\\\nPosted on\\\\nGoogle\\\\nDinesh Kaliaprumal\\\\nGreat Job done by Dplus car care team. My car was serviced well and it looks like a new door. Thanks\\\\nRead more\\\\nPosted on\\\\nGoogle\\\\nmohammed rafiq mk\\\\nMy car tiago (xt) painting done good. Satisfied with their work !!!!\\\\nPosted on\\\\nGoogle\\\\nMr Check Engine Autotronics\\\\nNice painting work....\\\\nPosted on\\\\nGoogle\\\\nNiswan Baig\\\\nI would highly recommend Dplus care care because its best place for all mechanical works. I gave my car for check engine light frequently occuring with some lagging issues when its in 2nd and 3rd gear. They scan in detail and resolved my issue completely with reasonable price.\\\\nRead more\\\\nPosted on\\\\nGoogle\\\\najith kumar\\\\nCustom service and response so good\\\\nPosted on\\\\nGoogle\\\\nsivasubramaniam T\\\\nThe best place for painting service. I am very much satisfied with the painting service and the outcome. They are commited to the work and their approach towards a customer is excellent. I really appreciate Mr Ajith and their team for the outcome. Thankyou\\\\nRead more\\\\nPosted on\\\\nGoogle\\\\nSuresh Kumar\\\\nI have done complete car service and dent removal and polishing with dolls car care. They have done excellent job with reasonable cost. They have made my 10 years old car like a new car. They have pick and drop service too. One negative is slight delay in delivery. But I guess that’s due to Divali holiday busy. Overall it is very good and recommend to all.\\\\nRead more\\\\nPosted on\\\\nGoogle\\\\nGUNA\\\\nGood people, clear explanation of work to be done, excellent service, on time delivery.\\\\nRead more\\\\nPosted on\\\\nGoogle\\\\nmuthu mani.mkn\\\\nWater wash did here very well and satisfied...\\\\nPosted on\\\\nGoogle\\\\nKhashni\\\\nBest car care for painting. I did painting for my santro and they did the work very well.\\\\nRead more\\\\nPosted on\\\\nGoogle\\\\nLOAD MORE\\\\nFree Google Reviews widget', '', '', '', 'Google Reviews\\\\nReviews\\\\n4.8\\\\n(276)\\\\nREVIEW US ON GOOGLE\\\\nBhuvanesh Selvan\\\\nThe place for all your car detailing work. Good work from Ajith sir and team. Highly recommended!!\\\\nRead more\\\\nPosted on\\\\nGoogle\\\\nVignes waran\\\\nGood service! Thanks Ajith!\\\\nPosted on\\\\nGoogle\\\\nSugan Sugu\\\\nD+ car care on time delivery and proper problem solving and work culture is very good\\\\nRead more\\\\nPosted on\\\\nGoogle\\\\nSathya N\\\\nDid tinkering for my polo back doors, they did almost similar to Volkswagen body shop. Cheap and best\\\\nRead more\\\\nPosted on\\\\nGoogle\\\\nS M\\\\nRecently My Taigun Front Door (driver side) dent repair attended by brother Ajith. Good work and timely completed. Charges was reasonable.\\\\nRead more\\\\nPosted on\\\\nGoogle\\\\nSambath Kumar\\\\nWell & good in all aspects... I Satisfied with them... On time delivery, proper response, reasonable charges\\\\nRead more\\\\nPosted on\\\\nGoogle\\\\nDinesh Kaliaprumal\\\\nGreat Job done by Dplus car care team. My car was serviced well and it looks like a new door. Thanks\\\\nRead more\\\\nPosted on\\\\nGoogle\\\\nmohammed rafiq mk\\\\nMy car tiago (xt) painting done good. Satisfied with their work !!!!\\\\nPosted on\\\\nGoogle\\\\nMr Check Engine Autotronics\\\\nNice painting work....\\\\nPosted on\\\\nGoogle\\\\nNiswan Baig\\\\nI would highly recommend Dplus care care because its best place for all mechanical works. I gave my car for check engine light frequently occuring with some lagging issues when its in 2nd and 3rd gear. They scan in detail and resolved my issue completely with reasonable price.\\\\nRead more\\\\nPosted on\\\\nGoogle\\\\najith kumar\\\\nCustom service and response so good\\\\nPosted on\\\\nGoogle\\\\nsivasubramaniam T\\\\nThe best place for painting service. I am very much satisfied with the painting service and the outcome. They are commited to the work and their approach towards a customer is excellent. I really appreciate Mr Ajith and their team for the outcome. Thankyou\\\\nRead more\\\\nPosted on\\\\nGoogle\\\\nSuresh Kumar\\\\nI have done complete car service and dent removal and polishing with dolls car care. They have done excellent job with reasonable cost. They have made my 10 years old car like a new car. They have pick and drop service too. One negative is slight delay in delivery. But I guess that’s due to Divali holiday busy. Overall it is very good and recommend to all.\\\\nRead more\\\\nPosted on\\\\nGoogle\\\\nGUNA\\\\nGood people, clear explanation of work to be done, excellent service, on time delivery.\\\\nRead more\\\\nPosted on\\\\nGoogle\\\\nmuthu mani.mkn\\\\nWater wash did here very well and satisfied...\\\\nPosted on\\\\nGoogle\\\\nKhashni\\\\nBest car care for painting. I did painting for my santro and they did the work very well.\\\\nRead more\\\\nPosted on\\\\nGoogle\\\\nLOAD MORE\\\\nFree Google Reviews widget', 'Google Reviews\\\\nReviews\\\\n4.8\\\\n(276)\\\\nREVIEW US ON GOOGLE\\\\nBhuvanesh Selvan\\\\nThe place for all your car detailing work. Good work from Ajith sir and team. Highly recommended!!\\\\nRead more\\\\nPosted on\\\\nGoogle\\\\nVignes waran\\\\nGood service! Thanks Ajith!\\\\nPosted on\\\\nGoogle\\\\nSugan Sugu\\\\nD+ car care on time delivery and proper problem solving and work culture is very good\\\\nRead more\\\\nPosted on\\\\nGoogle\\\\nSathya N\\\\nDid tinkering for my polo back doors, they did almost similar to Volkswagen body shop. Cheap and best\\\\nRead more\\\\nPosted on\\\\nGoogle\\\\nS M\\\\nRecently My Taigun Front Door (driver side) dent repair attended by brother Ajith. Good work and timely completed. Charges was reasonable.\\\\nRead more\\\\nPosted on\\\\nGoogle\\\\nSambath Kumar\\\\nWell & good in all aspects... I Satisfied with them... On time delivery, proper response, reasonable charges\\\\nRead more\\\\nPosted on\\\\nGoogle\\\\nDinesh Kaliaprumal\\\\nGreat Job done by Dplus car care team. My car was serviced well and it looks like a new door. Thanks\\\\nRead more\\\\nPosted on\\\\nGoogle\\\\nmohammed rafiq mk\\\\nMy car tiago (xt) painting done good. Satisfied with their work !!!!\\\\nPosted on\\\\nGoogle\\\\nMr Check Engine Autotronics\\\\nNice painting work....\\\\nPosted on\\\\nGoogle\\\\nNiswan Baig\\\\nI would highly recommend Dplus care care because its best place for all mechanical works. I gave my car for check engine light frequently occuring with some lagging issues when its in 2nd and 3rd gear. They scan in detail and resolved my issue completely with reasonable price.\\\\nRead more\\\\nPosted on\\\\nGoogle\\\\najith kumar\\\\nCustom service and response so good\\\\nPosted on\\\\nGoogle\\\\nsivasubramaniam T\\\\nThe best place for painting service. I am very much satisfied with the painting service and the outcome. They are commited to the work and their approach towards a customer is excellent. I really appreciate Mr Ajith and their team for the outcome. Thankyou\\\\nRead more\\\\nPosted on\\\\nGoogle\\\\nSuresh Kumar\\\\nI have done complete car service and dent removal and polishing with do\""
      ]
     },
     "execution_count": 2,
     "metadata": {},
     "output_type": "execute_result"
    }
   ],
   "source": [
    "loader = CSVLoader(file_path=\"scraped_2511.csv\")\n",
    "\n",
    "data = loader.load()\n",
    "data[0].page_content"
   ]
  },
  {
   "cell_type": "code",
   "execution_count": 3,
   "metadata": {},
   "outputs": [
    {
     "data": {
      "text/plain": [
       "dict"
      ]
     },
     "execution_count": 3,
     "metadata": {},
     "output_type": "execute_result"
    }
   ],
   "source": [
    "type(data[0].metadata)"
   ]
  },
  {
   "cell_type": "code",
   "execution_count": 4,
   "metadata": {},
   "outputs": [],
   "source": [
    "import boto3\n",
    "from langchain_aws import ChatBedrock\n",
    "from langchain_core.messages import HumanMessage, AIMessage, SystemMessage\n",
    "from prompt import prompt\n",
    "client = boto3.client(\"bedrock-runtime\", region_name=\"us-east-1\")\n",
    "llm = ChatBedrock(client=client,model=\"mistral.mistral-small-2402-v1:0\",temperature=0) #meta.llama3-1-70b-instruct-v1:0 mistral.mixtral-8x7b-instruct-v0:1 mistral.mistral-small-2402-v1:0"
   ]
  },
  {
   "cell_type": "code",
   "execution_count": 5,
   "metadata": {},
   "outputs": [],
   "source": [
    "from langchain_groq import ChatGroq\n",
    "\n",
    "groq_llm = ChatGroq(\n",
    "    model=\"gemma2-9b-it\",\n",
    "    temperature=0,\n",
    ")"
   ]
  },
  {
   "cell_type": "code",
   "execution_count": 6,
   "metadata": {},
   "outputs": [
    {
     "data": {
      "text/plain": [
       "AIMessage(content=\" Hello! How can I help you today? Is there something specific you would like to talk about or ask? I'm here to answer any questions you have to the best of my ability.\", additional_kwargs={'usage': {'prompt_tokens': 5, 'completion_tokens': 40, 'total_tokens': 45}, 'stop_reason': None, 'model_id': 'mistral.mistral-small-2402-v1:0'}, response_metadata={'usage': {'prompt_tokens': 5, 'completion_tokens': 40, 'total_tokens': 45}, 'stop_reason': None, 'model_id': 'mistral.mistral-small-2402-v1:0'}, id='run-bcc670d6-267c-48ed-a155-d89eab1b77af-0', usage_metadata={'input_tokens': 5, 'output_tokens': 40, 'total_tokens': 45})"
      ]
     },
     "execution_count": 6,
     "metadata": {},
     "output_type": "execute_result"
    }
   ],
   "source": [
    "llm.invoke(\"hi\")"
   ]
  },
  {
   "cell_type": "code",
   "execution_count": null,
   "metadata": {},
   "outputs": [],
   "source": [
    "#classify\n",
    "\n",
    "def chat_with_llm(message):\n",
    "    messages = [SystemMessage(content=prompt), HumanMessage(content=message)]\n",
    "    response = llm.invoke(messages)\n",
    "    return response\n",
    "\n",
    "import re\n",
    "def extract_json_from_string(s):\n",
    "    json_pattern = re.compile(r'\\{.*\\}', re.DOTALL)\n",
    "    \n",
    "    # Search for the JSON pattern in the string\n",
    "    match = json_pattern.search(s)\n",
    "    \n",
    "    if match:\n",
    "        json_str = match.group(0)\n",
    "        return json_str\n",
    "    else:\n",
    "        return None"
   ]
  },
  {
   "cell_type": "code",
   "execution_count": 8,
   "metadata": {},
   "outputs": [
    {
     "data": {
      "text/plain": [
       "': 15\\nAll_content: []'"
      ]
     },
     "execution_count": 8,
     "metadata": {},
     "output_type": "execute_result"
    }
   ],
   "source": [
    "data[4].page_content"
   ]
  },
  {
   "cell_type": "code",
   "execution_count": 9,
   "metadata": {},
   "outputs": [
    {
     "data": {
      "text/plain": [
       "'{\\n  \"business_name\": \"String\",\\n  \"location_details\": {\\n    \"full_address\": \"String\",\\n    \"city\": \"String\",\\n    \"state\": \"String\",\\n    \"postal_code\": \"String\",\\n    \"geo_coordinates\": {\\n      \"latitude\": \"Float\",\\n      \"longitude\": \"Float\"\\n    }\\n  },\\n  \"contact_information\": {\\n    \"primary_phone\": \"String\",\\n    \"secondary_phone\": \"String\",\\n    \"email\": \"String\",\\n    \"website\": \"String\"\\n  },\\n  \"services\": {\\n    \"primary_services\": [\"String\", ...],\\n    \"secondary_services\": [\"String\", ...],\\n    \"specialized_services\": [\"String\", ...]\\n  },\\n  \"operational_details\": {\\n    \"working_hours\": \"String\",\\n    \"days_of_operation\": [\"String\", ...],\\n    \"established_year\": \"Integer\"\\n  },\\n  \"ratings_and_reviews\": {\\n    \"average_rating\": \"Float\",\\n    \"total_reviews\": \"Integer\",\\n    \"platform_sources\": [\"String\", ...]\\n  },\\n  \"unique_selling_propositions\": [\"String\", ...],\\n  \"additional_notes\": \"String\"\\n}'"
      ]
     },
     "execution_count": 9,
     "metadata": {},
     "output_type": "execute_result"
    }
   ],
   "source": [
    "#trial\n",
    "hi = chat_with_llm(data[4].page_content)\n",
    "extract_json_from_string(hi.content)"
   ]
  },
  {
   "cell_type": "code",
   "execution_count": null,
   "metadata": {},
   "outputs": [],
   "source": [
    "import time\n",
    "import json\n",
    "\n",
    "def json_converting(data):\n",
    "    all_data = []\n",
    "\n",
    "    # Loop over your data and call chat_with_llm\n",
    "    for item in data:\n",
    "        print(item.metadata)\n",
    "        try:\n",
    "            response = chat_with_llm(item.page_content)\n",
    "            \n",
    "            extracted_json_str = extract_json_from_string(response.content)\n",
    "            \n",
    "            if extracted_json_str:\n",
    "\n",
    "                extracted_json = json.loads(extracted_json_str)\n",
    "                extracted_json[\"metadata\"] = item.metadata\n",
    "\n",
    "                all_data.append(extracted_json)\n",
    "\n",
    "                print(f\"Successfully processed item\")\n",
    "            \n",
    "            else:\n",
    "                all_data.append(item.metadata)\n",
    "            \n",
    "        except Exception as e:\n",
    "            print(f\"Error processing item Error: {e}\")\n",
    "        \n",
    "        # time.sleep(60)  # use sleep whenecer use groq freetrial\n",
    "\n",
    "    with open(\"data2.json\", \"w\") as json_file:\n",
    "        json.dump(all_data, json_file, indent=4)\n",
    "\n",
    "    print(\"Processing complete. Data stored in data.json.\")"
   ]
  },
  {
   "cell_type": "code",
   "execution_count": 11,
   "metadata": {},
   "outputs": [
    {
     "name": "stdout",
     "output_type": "stream",
     "text": [
      "{'source': 'scraped_2511.csv', 'row': 0}\n",
      "Successfully processed item\n",
      "{'source': 'scraped_2511.csv', 'row': 1}\n",
      "Successfully processed item\n",
      "{'source': 'scraped_2511.csv', 'row': 2}\n",
      "Successfully processed item\n",
      "{'source': 'scraped_2511.csv', 'row': 3}\n",
      "Successfully processed item\n",
      "{'source': 'scraped_2511.csv', 'row': 4}\n",
      "Error processing item Error: Expecting value: line 20 column 36 (char 443)\n",
      "{'source': 'scraped_2511.csv', 'row': 5}\n",
      "Successfully processed item\n",
      "{'source': 'scraped_2511.csv', 'row': 6}\n",
      "Successfully processed item\n",
      "{'source': 'scraped_2511.csv', 'row': 7}\n",
      "Successfully processed item\n",
      "{'source': 'scraped_2511.csv', 'row': 8}\n",
      "Successfully processed item\n",
      "{'source': 'scraped_2511.csv', 'row': 9}\n",
      "Successfully processed item\n",
      "{'source': 'scraped_2511.csv', 'row': 10}\n",
      "Successfully processed item\n",
      "{'source': 'scraped_2511.csv', 'row': 11}\n",
      "Successfully processed item\n",
      "{'source': 'scraped_2511.csv', 'row': 12}\n",
      "Successfully processed item\n",
      "{'source': 'scraped_2511.csv', 'row': 13}\n",
      "Successfully processed item\n",
      "{'source': 'scraped_2511.csv', 'row': 14}\n",
      "Successfully processed item\n",
      "{'source': 'scraped_2511.csv', 'row': 15}\n",
      "Successfully processed item\n",
      "{'source': 'scraped_2511.csv', 'row': 16}\n",
      "Successfully processed item\n",
      "{'source': 'scraped_2511.csv', 'row': 17}\n",
      "Successfully processed item\n",
      "{'source': 'scraped_2511.csv', 'row': 18}\n",
      "Successfully processed item\n",
      "{'source': 'scraped_2511.csv', 'row': 19}\n",
      "Successfully processed item\n",
      "{'source': 'scraped_2511.csv', 'row': 20}\n",
      "Successfully processed item\n",
      "{'source': 'scraped_2511.csv', 'row': 21}\n",
      "Successfully processed item\n",
      "{'source': 'scraped_2511.csv', 'row': 22}\n",
      "Successfully processed item\n",
      "{'source': 'scraped_2511.csv', 'row': 23}\n",
      "Successfully processed item\n",
      "{'source': 'scraped_2511.csv', 'row': 24}\n",
      "Successfully processed item\n",
      "{'source': 'scraped_2511.csv', 'row': 25}\n",
      "Successfully processed item\n",
      "{'source': 'scraped_2511.csv', 'row': 26}\n",
      "Successfully processed item\n",
      "{'source': 'scraped_2511.csv', 'row': 27}\n",
      "Successfully processed item\n",
      "{'source': 'scraped_2511.csv', 'row': 28}\n",
      "Successfully processed item\n",
      "{'source': 'scraped_2511.csv', 'row': 29}\n",
      "Successfully processed item\n",
      "{'source': 'scraped_2511.csv', 'row': 30}\n",
      "Successfully processed item\n",
      "{'source': 'scraped_2511.csv', 'row': 31}\n",
      "Successfully processed item\n",
      "{'source': 'scraped_2511.csv', 'row': 32}\n",
      "Successfully processed item\n",
      "{'source': 'scraped_2511.csv', 'row': 33}\n",
      "Successfully processed item\n",
      "{'source': 'scraped_2511.csv', 'row': 34}\n",
      "Successfully processed item\n",
      "{'source': 'scraped_2511.csv', 'row': 35}\n",
      "Successfully processed item\n",
      "{'source': 'scraped_2511.csv', 'row': 36}\n",
      "Successfully processed item\n",
      "{'source': 'scraped_2511.csv', 'row': 37}\n",
      "Successfully processed item\n",
      "{'source': 'scraped_2511.csv', 'row': 38}\n",
      "Successfully processed item\n",
      "{'source': 'scraped_2511.csv', 'row': 39}\n",
      "Error processing item Error: Expecting value: line 20 column 36 (char 445)\n",
      "{'source': 'scraped_2511.csv', 'row': 40}\n",
      "Successfully processed item\n",
      "{'source': 'scraped_2511.csv', 'row': 41}\n",
      "Successfully processed item\n",
      "{'source': 'scraped_2511.csv', 'row': 42}\n",
      "Successfully processed item\n",
      "Processing complete. Data stored in data.json.\n"
     ]
    }
   ],
   "source": [
    "json_converting(data)"
   ]
  }
 ],
 "metadata": {
  "kernelspec": {
   "display_name": "Python 3",
   "language": "python",
   "name": "python3"
  },
  "language_info": {
   "codemirror_mode": {
    "name": "ipython",
    "version": 3
   },
   "file_extension": ".py",
   "mimetype": "text/x-python",
   "name": "python",
   "nbconvert_exporter": "python",
   "pygments_lexer": "ipython3",
   "version": "3.11.9"
  }
 },
 "nbformat": 4,
 "nbformat_minor": 2
}
